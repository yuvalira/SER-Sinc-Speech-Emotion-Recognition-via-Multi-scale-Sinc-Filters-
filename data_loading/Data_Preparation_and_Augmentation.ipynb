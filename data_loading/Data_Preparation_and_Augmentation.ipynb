{
  "nbformat": 4,
  "nbformat_minor": 0,
  "metadata": {
    "colab": {
      "provenance": [],
      "collapsed_sections": [
        "qUbz-VJu8sXE",
        "aQe8odZm8yJq",
        "_6nN_fM4t_JO",
        "YYKJbwIyu_9T",
        "eWnQ7YMAtZZU",
        "hgMEJfFHub1X"
      ],
      "machine_shape": "hm",
      "gpuType": "T4",
      "authorship_tag": "ABX9TyMrXCNE0Lp7jhTBZzWKE2v9",
      "include_colab_link": true
    },
    "kernelspec": {
      "name": "python3",
      "display_name": "Python 3"
    },
    "language_info": {
      "name": "python"
    },
    "accelerator": "GPU"
  },
  "cells": [
    {
      "cell_type": "markdown",
      "metadata": {
        "id": "view-in-github",
        "colab_type": "text"
      },
      "source": [
        "<a href=\"https://colab.research.google.com/github/yuvalira/SER-Sinc-Speech-Emotion-Recognition-via-Multi-scale-Sinc-Filters-/blob/main/data_loading/Data_Preparation_and_Augmentation.ipynb\" target=\"_parent\"><img src=\"https://colab.research.google.com/assets/colab-badge.svg\" alt=\"Open In Colab\"/></a>"
      ]
    },
    {
      "cell_type": "markdown",
      "source": [
        "# **Data Preparation and Augmentation**\n",
        "\n",
        "In this notebook, we load the RAVDESS dataset, standardize the raw audio inputs, and apply preprocessing steps required for model training. These steps include resampling, mono conversion, padding/clipping to fixed length, normalization, and basic data augmentation techniques such as noise injection and time shifting. The processed data will be used in downstream notebooks for model training and evaluation.\n"
      ],
      "metadata": {
        "id": "r6RGZStorvM_"
      }
    },
    {
      "cell_type": "markdown",
      "source": [
        "## 1. Setup and Imports\n",
        "Import required libraries for audio processing, file handling, and dataset management."
      ],
      "metadata": {
        "id": "qUbz-VJu8sXE"
      }
    },
    {
      "cell_type": "code",
      "execution_count": 1,
      "metadata": {
        "id": "YPPPuaY18J39"
      },
      "outputs": [],
      "source": [
        "import os\n",
        "import glob\n",
        "import torch\n",
        "import torchaudio\n",
        "from torch.utils.data import Dataset, DataLoader, random_split\n",
        "import torch.nn.functional as F\n",
        "import numpy as np\n",
        "import matplotlib.pyplot as plt\n",
        "import random\n",
        "import torchaudio.transforms as T\n",
        "from tqdm import tqdm"
      ]
    },
    {
      "cell_type": "markdown",
      "source": [
        "## 2. Dataset Download and Extraction\n",
        "Use the Kaggle API to download and extract the RAVDESS dataset."
      ],
      "metadata": {
        "id": "aQe8odZm8yJq"
      }
    },
    {
      "cell_type": "code",
      "source": [
        "# Upload kaggle.json API token\n",
        "from google.colab import files\n",
        "files.upload()  # Select your kaggle.json file here\n",
        "\n",
        "# Move kaggle.json to the correct location and set permissions\n",
        "!mkdir -p ~/.kaggle\n",
        "!cp kaggle.json ~/.kaggle/\n",
        "!chmod 600 ~/.kaggle/kaggle.json\n",
        "\n",
        "# Download the RAVDESS dataset from Kaggle\n",
        "!kaggle datasets download -d uwrfkaggler/ravdess-emotional-speech-audio\n",
        "\n",
        "# Force unzip even if files already exist (overwrite silently)\n",
        "!unzip -o -q ravdess-emotional-speech-audio.zip -d ravdess_data\n",
        "\n",
        "# List the contents to confirm\n",
        "!ls ravdess_data"
      ],
      "metadata": {
        "colab": {
          "base_uri": "https://localhost:8080/",
          "height": 246
        },
        "id": "LWgoPhpP9vJa",
        "outputId": "43422e9a-ca02-417f-97a1-177bb5a9fb5f"
      },
      "execution_count": 2,
      "outputs": [
        {
          "output_type": "display_data",
          "data": {
            "text/plain": [
              "<IPython.core.display.HTML object>"
            ],
            "text/html": [
              "\n",
              "     <input type=\"file\" id=\"files-639ce7ee-97a1-42db-89ab-993377b49696\" name=\"files[]\" multiple disabled\n",
              "        style=\"border:none\" />\n",
              "     <output id=\"result-639ce7ee-97a1-42db-89ab-993377b49696\">\n",
              "      Upload widget is only available when the cell has been executed in the\n",
              "      current browser session. Please rerun this cell to enable.\n",
              "      </output>\n",
              "      <script>// Copyright 2017 Google LLC\n",
              "//\n",
              "// Licensed under the Apache License, Version 2.0 (the \"License\");\n",
              "// you may not use this file except in compliance with the License.\n",
              "// You may obtain a copy of the License at\n",
              "//\n",
              "//      http://www.apache.org/licenses/LICENSE-2.0\n",
              "//\n",
              "// Unless required by applicable law or agreed to in writing, software\n",
              "// distributed under the License is distributed on an \"AS IS\" BASIS,\n",
              "// WITHOUT WARRANTIES OR CONDITIONS OF ANY KIND, either express or implied.\n",
              "// See the License for the specific language governing permissions and\n",
              "// limitations under the License.\n",
              "\n",
              "/**\n",
              " * @fileoverview Helpers for google.colab Python module.\n",
              " */\n",
              "(function(scope) {\n",
              "function span(text, styleAttributes = {}) {\n",
              "  const element = document.createElement('span');\n",
              "  element.textContent = text;\n",
              "  for (const key of Object.keys(styleAttributes)) {\n",
              "    element.style[key] = styleAttributes[key];\n",
              "  }\n",
              "  return element;\n",
              "}\n",
              "\n",
              "// Max number of bytes which will be uploaded at a time.\n",
              "const MAX_PAYLOAD_SIZE = 100 * 1024;\n",
              "\n",
              "function _uploadFiles(inputId, outputId) {\n",
              "  const steps = uploadFilesStep(inputId, outputId);\n",
              "  const outputElement = document.getElementById(outputId);\n",
              "  // Cache steps on the outputElement to make it available for the next call\n",
              "  // to uploadFilesContinue from Python.\n",
              "  outputElement.steps = steps;\n",
              "\n",
              "  return _uploadFilesContinue(outputId);\n",
              "}\n",
              "\n",
              "// This is roughly an async generator (not supported in the browser yet),\n",
              "// where there are multiple asynchronous steps and the Python side is going\n",
              "// to poll for completion of each step.\n",
              "// This uses a Promise to block the python side on completion of each step,\n",
              "// then passes the result of the previous step as the input to the next step.\n",
              "function _uploadFilesContinue(outputId) {\n",
              "  const outputElement = document.getElementById(outputId);\n",
              "  const steps = outputElement.steps;\n",
              "\n",
              "  const next = steps.next(outputElement.lastPromiseValue);\n",
              "  return Promise.resolve(next.value.promise).then((value) => {\n",
              "    // Cache the last promise value to make it available to the next\n",
              "    // step of the generator.\n",
              "    outputElement.lastPromiseValue = value;\n",
              "    return next.value.response;\n",
              "  });\n",
              "}\n",
              "\n",
              "/**\n",
              " * Generator function which is called between each async step of the upload\n",
              " * process.\n",
              " * @param {string} inputId Element ID of the input file picker element.\n",
              " * @param {string} outputId Element ID of the output display.\n",
              " * @return {!Iterable<!Object>} Iterable of next steps.\n",
              " */\n",
              "function* uploadFilesStep(inputId, outputId) {\n",
              "  const inputElement = document.getElementById(inputId);\n",
              "  inputElement.disabled = false;\n",
              "\n",
              "  const outputElement = document.getElementById(outputId);\n",
              "  outputElement.innerHTML = '';\n",
              "\n",
              "  const pickedPromise = new Promise((resolve) => {\n",
              "    inputElement.addEventListener('change', (e) => {\n",
              "      resolve(e.target.files);\n",
              "    });\n",
              "  });\n",
              "\n",
              "  const cancel = document.createElement('button');\n",
              "  inputElement.parentElement.appendChild(cancel);\n",
              "  cancel.textContent = 'Cancel upload';\n",
              "  const cancelPromise = new Promise((resolve) => {\n",
              "    cancel.onclick = () => {\n",
              "      resolve(null);\n",
              "    };\n",
              "  });\n",
              "\n",
              "  // Wait for the user to pick the files.\n",
              "  const files = yield {\n",
              "    promise: Promise.race([pickedPromise, cancelPromise]),\n",
              "    response: {\n",
              "      action: 'starting',\n",
              "    }\n",
              "  };\n",
              "\n",
              "  cancel.remove();\n",
              "\n",
              "  // Disable the input element since further picks are not allowed.\n",
              "  inputElement.disabled = true;\n",
              "\n",
              "  if (!files) {\n",
              "    return {\n",
              "      response: {\n",
              "        action: 'complete',\n",
              "      }\n",
              "    };\n",
              "  }\n",
              "\n",
              "  for (const file of files) {\n",
              "    const li = document.createElement('li');\n",
              "    li.append(span(file.name, {fontWeight: 'bold'}));\n",
              "    li.append(span(\n",
              "        `(${file.type || 'n/a'}) - ${file.size} bytes, ` +\n",
              "        `last modified: ${\n",
              "            file.lastModifiedDate ? file.lastModifiedDate.toLocaleDateString() :\n",
              "                                    'n/a'} - `));\n",
              "    const percent = span('0% done');\n",
              "    li.appendChild(percent);\n",
              "\n",
              "    outputElement.appendChild(li);\n",
              "\n",
              "    const fileDataPromise = new Promise((resolve) => {\n",
              "      const reader = new FileReader();\n",
              "      reader.onload = (e) => {\n",
              "        resolve(e.target.result);\n",
              "      };\n",
              "      reader.readAsArrayBuffer(file);\n",
              "    });\n",
              "    // Wait for the data to be ready.\n",
              "    let fileData = yield {\n",
              "      promise: fileDataPromise,\n",
              "      response: {\n",
              "        action: 'continue',\n",
              "      }\n",
              "    };\n",
              "\n",
              "    // Use a chunked sending to avoid message size limits. See b/62115660.\n",
              "    let position = 0;\n",
              "    do {\n",
              "      const length = Math.min(fileData.byteLength - position, MAX_PAYLOAD_SIZE);\n",
              "      const chunk = new Uint8Array(fileData, position, length);\n",
              "      position += length;\n",
              "\n",
              "      const base64 = btoa(String.fromCharCode.apply(null, chunk));\n",
              "      yield {\n",
              "        response: {\n",
              "          action: 'append',\n",
              "          file: file.name,\n",
              "          data: base64,\n",
              "        },\n",
              "      };\n",
              "\n",
              "      let percentDone = fileData.byteLength === 0 ?\n",
              "          100 :\n",
              "          Math.round((position / fileData.byteLength) * 100);\n",
              "      percent.textContent = `${percentDone}% done`;\n",
              "\n",
              "    } while (position < fileData.byteLength);\n",
              "  }\n",
              "\n",
              "  // All done.\n",
              "  yield {\n",
              "    response: {\n",
              "      action: 'complete',\n",
              "    }\n",
              "  };\n",
              "}\n",
              "\n",
              "scope.google = scope.google || {};\n",
              "scope.google.colab = scope.google.colab || {};\n",
              "scope.google.colab._files = {\n",
              "  _uploadFiles,\n",
              "  _uploadFilesContinue,\n",
              "};\n",
              "})(self);\n",
              "</script> "
            ]
          },
          "metadata": {}
        },
        {
          "output_type": "stream",
          "name": "stdout",
          "text": [
            "Saving kaggle.json to kaggle.json\n",
            "Dataset URL: https://www.kaggle.com/datasets/uwrfkaggler/ravdess-emotional-speech-audio\n",
            "License(s): CC-BY-NC-SA-4.0\n",
            "Downloading ravdess-emotional-speech-audio.zip to /content\n",
            " 90% 385M/429M [00:00<00:00, 1.34GB/s]\n",
            "100% 429M/429M [00:00<00:00, 1.34GB/s]\n",
            "Actor_01  Actor_06  Actor_11  Actor_16\tActor_21\n",
            "Actor_02  Actor_07  Actor_12  Actor_17\tActor_22\n",
            "Actor_03  Actor_08  Actor_13  Actor_18\tActor_23\n",
            "Actor_04  Actor_09  Actor_14  Actor_19\tActor_24\n",
            "Actor_05  Actor_10  Actor_15  Actor_20\taudio_speech_actors_01-24\n"
          ]
        }
      ]
    },
    {
      "cell_type": "markdown",
      "source": [
        "## 3. Custom Dataset Class: RAVDESSDataset\n",
        "Define a PyTorch `RAVDESSDataset` class that loads and preprocesses audio: resampling, trimming, mono conversion, and normalization."
      ],
      "metadata": {
        "id": "_6nN_fM4t_JO"
      }
    },
    {
      "cell_type": "code",
      "source": [
        "class RAVDESSDataset(Dataset):\n",
        "    def __init__(self, root_dir, sample_rate=16000, duration=3, augment=False):\n",
        "        self.root_dir = root_dir\n",
        "        self.sample_rate = sample_rate\n",
        "        self.fixed_length = sample_rate * duration\n",
        "        self.augment = augment\n",
        "        self.augmenter = AudioAugment() if augment else None\n",
        "\n",
        "        self.file_paths = glob.glob(os.path.join(root_dir, '**', '*.wav'), recursive=True)\n",
        "\n",
        "        self.label_map = {\n",
        "            '01': 0,  # neutral\n",
        "            '02': 1,  # calm\n",
        "            '03': 2,  # happy\n",
        "            '04': 3,  # sad\n",
        "            '05': 4,  # angry\n",
        "            '06': 5,  # fearful\n",
        "            '07': 6,  # disgust\n",
        "            '08': 7   # surprised\n",
        "        }\n",
        "\n",
        "    def __len__(self):\n",
        "        return len(self.file_paths)\n",
        "\n",
        "    def __getitem__(self, idx):\n",
        "        file_path = self.file_paths[idx]\n",
        "\n",
        "        # Load and preprocess waveform\n",
        "        waveform, sr = torchaudio.load(file_path)\n",
        "\n",
        "        # Convert stereo to mono\n",
        "        if waveform.shape[0] > 1:\n",
        "            waveform = torch.mean(waveform, dim=0, keepdim=True)\n",
        "\n",
        "        # Resample if needed\n",
        "        if sr != self.sample_rate:\n",
        "            resampler = torchaudio.transforms.Resample(orig_freq=sr, new_freq=self.sample_rate)\n",
        "            waveform = resampler(waveform)\n",
        "\n",
        "        # Fix length\n",
        "        if waveform.shape[1] > self.fixed_length:\n",
        "            waveform = waveform[:, :self.fixed_length]\n",
        "        elif waveform.shape[1] < self.fixed_length:\n",
        "            padding = self.fixed_length - waveform.shape[1]\n",
        "            waveform = torch.nn.functional.pad(waveform, (0, padding))\n",
        "\n",
        "        # Augment if enabled\n",
        "        if self.augmenter:\n",
        "            waveform = self.augmenter(waveform)\n",
        "\n",
        "        # Label from filename\n",
        "        filename = os.path.basename(file_path)\n",
        "        emotion_code = filename.split(\"-\")[2]\n",
        "        label = self.label_map[emotion_code]\n",
        "\n",
        "        return waveform, label"
      ],
      "metadata": {
        "id": "uYlMsPVF_eLT"
      },
      "execution_count": 3,
      "outputs": []
    },
    {
      "cell_type": "markdown",
      "source": [
        "## 4. Dataset Inspection and Waveform Visualization\n",
        "Create a dataset instance, inspect a sample, and visualize its waveform and label."
      ],
      "metadata": {
        "id": "YYKJbwIyu_9T"
      }
    },
    {
      "cell_type": "code",
      "source": [
        "# Set dataset root path\n",
        "dataset_path = \"ravdess_data/\"  # this is where the files were unzipped\n",
        "\n",
        "# Create dataset instance\n",
        "full_dataset = RAVDESSDataset(root_dir=dataset_path)"
      ],
      "metadata": {
        "id": "3HPZhdXyAXSH"
      },
      "execution_count": 4,
      "outputs": []
    },
    {
      "cell_type": "code",
      "source": [
        "# Visualize one sample from the dataset\n",
        "waveform, label = full_dataset[0]\n",
        "\n",
        "print(f\"Label index: {label}\")\n",
        "print(f\"Waveform shape: {waveform.shape}\")  # should be (48000,)\n",
        "\n",
        "# Plot the waveform\n",
        "plt.figure(figsize=(12, 3))\n",
        "plt.plot(waveform.squeeze(0).numpy())\n",
        "plt.title(f\"Waveform Example - Label: {label}\")\n",
        "plt.xlabel(\"Sample Index\")\n",
        "plt.ylabel(\"Amplitude\")\n",
        "plt.show()"
      ],
      "metadata": {
        "colab": {
          "base_uri": "https://localhost:8080/",
          "height": 0
        },
        "id": "WKVL78QtAygs",
        "outputId": "3db70174-0247-4d9e-f056-d91ff1f47b73"
      },
      "execution_count": 5,
      "outputs": [
        {
          "output_type": "stream",
          "name": "stdout",
          "text": [
            "Label index: 6\n",
            "Waveform shape: torch.Size([1, 48000])\n"
          ]
        },
        {
          "output_type": "display_data",
          "data": {
            "text/plain": [
              "<Figure size 1200x300 with 1 Axes>"
            ],
            "image/png": "[encoded data removed]"
          },
          "metadata": {}
        }
      ]
    },
    {
      "cell_type": "markdown",
      "source": [
        "## 4. Dataset Splitting\n",
        "Split the dataset into training, validation, and test sets, using either `random_split`."
      ],
      "metadata": {
        "id": "eWnQ7YMAtZZU"
      }
    },
    {
      "cell_type": "code",
      "source": [
        "# Total dataset size\n",
        "total_size = len(full_dataset)\n",
        "\n",
        "# Split ratios\n",
        "train_ratio = 0.8\n",
        "val_ratio = 0.1\n",
        "test_ratio = 0.1\n",
        "\n",
        "# Compute lengths\n",
        "train_size = int(train_ratio * total_size)\n",
        "val_size = int(val_ratio * total_size)\n",
        "test_size = total_size - train_size - val_size  # to handle rounding\n",
        "\n",
        "# Split the dataset\n",
        "train_dataset, val_dataset, test_dataset = random_split(\n",
        "    full_dataset,\n",
        "    [train_size, val_size, test_size],\n",
        "    generator=torch.Generator().manual_seed(42)  # reproducible split\n",
        ")\n",
        "\n",
        "# Create DataLoaders\n",
        "train_loader = DataLoader(train_dataset, batch_size=8, shuffle=True)\n",
        "val_loader = DataLoader(val_dataset, batch_size=8, shuffle=False)\n",
        "test_loader = DataLoader(test_dataset, batch_size=8, shuffle=False)\n",
        "\n",
        "print(f\"Total samples: {total_size}\")\n",
        "print(f\"Training set size: {len(train_dataset)}\")\n",
        "print(f\"Validation set size: {len(val_dataset)}\")\n",
        "print(f\"Test set size: {len(test_dataset)}\")"
      ],
      "metadata": {
        "colab": {
          "base_uri": "https://localhost:8080/"
        },
        "id": "U3sE_Ia1A5hm",
        "outputId": "ca920a1b-d67a-41ec-baa4-5f6d24c90b7e"
      },
      "execution_count": 6,
      "outputs": [
        {
          "output_type": "stream",
          "name": "stdout",
          "text": [
            "Total samples: 2880\n",
            "Training set size: 2304\n",
            "Validation set size: 288\n",
            "Test set size: 288\n"
          ]
        }
      ]
    },
    {
      "cell_type": "markdown",
      "source": [
        "## 5. Train Audio Augmentation\n",
        "Define and integrate audio augmentation methods (e.g., time shift, noise injection) for use during training only."
      ],
      "metadata": {
        "id": "hgMEJfFHub1X"
      }
    },
    {
      "cell_type": "code",
      "source": [
        "# Extract file paths of training set from random_split\n",
        "train_indices = train_dataset.indices  # Get indices from the training Subset\n",
        "train_files = [full_dataset.file_paths[i] for i in train_indices]  # Map indices to file paths\n",
        "\n",
        "# Print summary\n",
        "print(f\"Number of training files: {len(train_files)}\")\n",
        "print(f\"First training file path: {train_files[0]}\")"
      ],
      "metadata": {
        "colab": {
          "base_uri": "https://localhost:8080/"
        },
        "id": "HAs5gIwH0Uqh",
        "outputId": "358ca897-0fae-4239-fe10-8d2f1506b964"
      },
      "execution_count": 7,
      "outputs": [
        {
          "output_type": "stream",
          "name": "stdout",
          "text": [
            "Number of training files: 2304\n",
            "First training file path: ravdess_data/audio_speech_actors_01-24/Actor_03/03-01-07-02-01-01-03.wav\n"
          ]
        }
      ]
    },
    {
      "cell_type": "code",
      "source": [
        "class EmotionAwareAugment:\n",
        "    def __init__(self, sample_rate=16000, apply_prob=0.8):\n",
        "        self.sample_rate = sample_rate\n",
        "        self.apply_prob = apply_prob\n",
        "\n",
        "    def __call__(self, waveform, label):\n",
        "        # Label: integer 0-7 representing the emotion class\n",
        "        if random.random() > self.apply_prob:\n",
        "            return waveform  # no augmentation this time\n",
        "\n",
        "        if label == 2:  # happy\n",
        "            waveform = self.pitch_shift(waveform, steps=1)\n",
        "            waveform = self.volume_change(waveform, factor=1.1)\n",
        "        elif label == 3:  # sad\n",
        "            waveform = self.pitch_shift(waveform, steps=-1)\n",
        "            waveform = self.time_stretch(waveform, factor=0.95)\n",
        "        elif label == 4:  # angry\n",
        "            waveform = self.volume_change(waveform, factor=1.2)\n",
        "            waveform = self.add_noise(waveform, noise_std=0.01)\n",
        "        elif label == 1 or label == 0:  # calm / neutral\n",
        "            waveform = self.time_shift(waveform, max_shift=1000)\n",
        "        elif label == 5:  # fearful\n",
        "            waveform = self.pitch_shift(waveform, steps=1)\n",
        "            waveform = self.add_noise(waveform)\n",
        "        elif label == 6:  # disgust\n",
        "            waveform = self.volume_change(waveform, factor=1.1)\n",
        "        elif label == 7:  # surprised\n",
        "            waveform = self.pitch_shift(waveform, steps=2)\n",
        "            waveform = self.volume_change(waveform, factor=1.2)\n",
        "\n",
        "        return waveform\n",
        "\n",
        "    def pitch_shift(self, waveform, steps=1):\n",
        "        transform = T.PitchShift(\n",
        "            sample_rate=self.sample_rate,\n",
        "            n_steps=steps\n",
        "        ).to(waveform.device)  # this fixes the window device mismatch\n",
        "        return transform(waveform)\n",
        "\n",
        "    def time_stretch(self, waveform, factor=0.95):\n",
        "        new_sr = int(self.sample_rate * factor)\n",
        "        resample = T.Resample(orig_freq=self.sample_rate, new_freq=new_sr).to(waveform.device)\n",
        "        return resample(waveform)\n",
        "\n",
        "    def volume_change(self, waveform, factor=1.1):\n",
        "        return waveform * factor\n",
        "\n",
        "    def add_noise(self, waveform, noise_std=0.005):\n",
        "        noise = torch.randn_like(waveform) * noise_std\n",
        "        return waveform + noise\n",
        "\n",
        "    def time_shift(self, waveform, max_shift=1600):\n",
        "        shift = random.randint(-max_shift, max_shift)\n",
        "        return torch.roll(waveform, shifts=shift, dims=-1)"
      ],
      "metadata": {
        "id": "L9mHsC99ufRv"
      },
      "execution_count": 14,
      "outputs": []
    },
    {
      "cell_type": "code",
      "source": [
        "output_dir = \"/content/expanded_dataset\"  # new dataset folder\n",
        "os.makedirs(output_dir, exist_ok=True)    # create folder if it doesn't exist"
      ],
      "metadata": {
        "id": "HQLcDMMwCwLG"
      },
      "execution_count": 9,
      "outputs": []
    },
    {
      "cell_type": "code",
      "source": [
        "# Parameters\n",
        "sample_rate = 16000\n",
        "fixed_length = sample_rate * 3\n",
        "num_augmentations_per_sample = 3\n",
        "output_dir = \"/content/expanded_dataset\"\n",
        "os.makedirs(output_dir, exist_ok=True)\n",
        "\n",
        "# Device\n",
        "device = torch.device(\"cuda\" if torch.cuda.is_available() else \"cpu\")\n",
        "\n",
        "# Initialize the emotion-aware augmenter\n",
        "augmenter = EmotionAwareAugment(sample_rate=sample_rate)\n",
        "\n",
        "# Label mapping\n",
        "label_map = {\n",
        "    '01': 0, '02': 1, '03': 2, '04': 3,\n",
        "    '05': 4, '06': 5, '07': 6, '08': 7\n",
        "}\n",
        "\n",
        "# Counter for saved files\n",
        "counter = 0\n",
        "\n",
        "for path in tqdm(train_files, desc=\"Expanding dataset with GPU\"):\n",
        "    waveform, sr = torchaudio.load(path)\n",
        "\n",
        "    # Convert to mono\n",
        "    if waveform.shape[0] > 1:\n",
        "        waveform = torch.mean(waveform, dim=0, keepdim=True)\n",
        "\n",
        "    # Move to GPU\n",
        "    waveform = waveform.to(device).float()\n",
        "\n",
        "    # Resample\n",
        "    if sr != sample_rate:\n",
        "        resampler = torchaudio.transforms.Resample(\n",
        "            orig_freq=sr, new_freq=sample_rate).to(device)\n",
        "        waveform = resampler(waveform)\n",
        "\n",
        "    # Trim or pad\n",
        "    if waveform.shape[1] > fixed_length:\n",
        "        waveform = waveform[:, :fixed_length]\n",
        "    elif waveform.shape[1] < fixed_length:\n",
        "        padding = fixed_length - waveform.shape[1]\n",
        "        waveform = F.pad(waveform, (0, padding))\n",
        "\n",
        "    # Normalize\n",
        "    waveform = waveform / waveform.abs().max()\n",
        "\n",
        "    # Get label from filename\n",
        "    filename = os.path.basename(path)\n",
        "    emotion_code = filename.split(\"-\")[2]\n",
        "    label = label_map[emotion_code]\n",
        "\n",
        "    # Save original (move to CPU before saving)\n",
        "    torch.save({\n",
        "        \"waveform\": waveform.cpu(),\n",
        "        \"label\": label\n",
        "    }, f\"{output_dir}/sample_{counter}.pt\")\n",
        "    counter += 1\n",
        "\n",
        "    # Save augmented versions\n",
        "    for _ in range(num_augmentations_per_sample):\n",
        "        aug_waveform = augmenter(waveform.clone(), label)  # stays on GPU\n",
        "        torch.save({\n",
        "            \"waveform\": aug_waveform.cpu(),\n",
        "            \"label\": label\n",
        "        }, f\"{output_dir}/sample_{counter}.pt\")\n",
        "        counter += 1\n",
        "\n",
        "print(f\"\\n Saved {counter} samples to {output_dir} using GPU acceleration.\")\n"
      ],
      "metadata": {
        "colab": {
          "base_uri": "https://localhost:8080/"
        },
        "id": "TD7y-16p1BJq",
        "outputId": "40870914-10cf-4530-807f-35f6b580662d"
      },
      "execution_count": 15,
      "outputs": [
        {
          "output_type": "stream",
          "name": "stderr",
          "text": [
            "Expanding dataset with GPU: 100%|██████████| 2304/2304 [08:26<00:00,  4.55it/s]"
          ]
        },
        {
          "output_type": "stream",
          "name": "stdout",
          "text": [
            "\n",
            " Saved 9216 samples to /content/expanded_dataset using GPU acceleration.\n"
          ]
        },
        {
          "output_type": "stream",
          "name": "stderr",
          "text": [
            "\n"
          ]
        }
      ]
    },
    {
      "cell_type": "code",
      "source": [
        "import os\n",
        "from google.colab import drive\n",
        "\n",
        "# Step 1: Mount Google Drive\n",
        "drive.mount('/content/drive')\n",
        "\n",
        "# Step 2: Zip the dataset (if not already zipped)\n",
        "zip_path = \"/content/expanded_dataset.zip\"\n",
        "if not os.path.exists(zip_path):\n",
        "    !zip -r {zip_path} /content/expanded_dataset\n",
        "\n",
        "# Step 3: Define destination path in your Google Drive\n",
        "drive_destination = \"/content/drive/MyDrive/expanded_dataset.zip\"\n",
        "\n",
        "# Step 4: Copy ZIP to Drive\n",
        "!cp {zip_path} \"{drive_destination}\"\n",
        "print(f\"Dataset successfully copied to Google Drive at: {drive_destination}\")"
      ],
      "metadata": {
        "colab": {
          "base_uri": "https://localhost:8080/"
        },
        "id": "E0268a-BxTEl",
        "outputId": "bc44cb72-b93d-48c1-a549-9de54529016e"
      },
      "execution_count": 20,
      "outputs": [
        {
          "output_type": "stream",
          "name": "stdout",
          "text": [
            "Mounted at /content/drive\n",
            "Dataset successfully copied to Google Drive at: /content/drive/MyDrive/expanded_dataset.zip\n"
          ]
        }
      ]
    }
  ]
}