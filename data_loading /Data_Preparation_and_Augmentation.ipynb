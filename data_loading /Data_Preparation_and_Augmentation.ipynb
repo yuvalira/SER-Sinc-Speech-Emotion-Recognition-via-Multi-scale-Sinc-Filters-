{
  "nbformat": 4,
  "nbformat_minor": 0,
  "metadata": {
    "colab": {
      "provenance": [],
      "collapsed_sections": [
        "qUbz-VJu8sXE",
        "aQe8odZm8yJq",
        "_6nN_fM4t_JO",
        "YYKJbwIyu_9T",
        "eWnQ7YMAtZZU",
        "hgMEJfFHub1X",
        "DQ8AcgEDYcl9"
      ],
      "authorship_tag": "ABX9TyPF4KLZM521jlmNGk+PKdvS",
      "include_colab_link": true
    },
    "kernelspec": {
      "name": "python3",
      "display_name": "Python 3"
    },
    "language_info": {
      "name": "python"
    }
  },
  "cells": [
    {
      "cell_type": "markdown",
      "metadata": {
        "id": "view-in-github",
        "colab_type": "text"
      },
      "source": [
        "<a href=\"https://colab.research.google.com/github/yuvalira/SER-Sinc-Speech-Emotion-Recognition-via-Multi-scale-Sinc-Filters-/blob/main/data_loading%20/Data_Preparation_and_Augmentation.ipynb\" target=\"_parent\"><img src=\"https://colab.research.google.com/assets/colab-badge.svg\" alt=\"Open In Colab\"/></a>"
      ]
    },
    {
      "cell_type": "markdown",
      "source": [
        "# **Data Preparation and Augmentation**\n",
        "\n",
        "This notebook prepares the RAVDESS emotional speech dataset for training a speech emotion recognition (SER) model. It includes mono conversion, resampling to 16kHz, normalization, and fixed-length trimming or padding. To improve model robustness, a custom emotion-aware augmentation pipeline is applied to the training set only, generating three additional augmented versions per sample using label-specific transformations (e.g., pitch shift, noise injection). All processed samples are saved as .pt files. The final dataset is zipped and exported to Google Drive.\n"
      ],
      "metadata": {
        "id": "r6RGZStorvM_"
      }
    },
    {
      "cell_type": "markdown",
      "source": [
        "## 1. Setup and Imports\n",
        "Import the necessary libraries for audio processing, file handling, and dataset management."
      ],
      "metadata": {
        "id": "qUbz-VJu8sXE"
      }
    },
    {
      "cell_type": "code",
      "execution_count": 1,
      "metadata": {
        "id": "YPPPuaY18J39"
      },
      "outputs": [],
      "source": [
        "import os\n",
        "import glob\n",
        "import torch\n",
        "import torchaudio\n",
        "from torch.utils.data import Dataset, DataLoader, random_split\n",
        "import torch.nn.functional as F\n",
        "import numpy as np\n",
        "import matplotlib.pyplot as plt\n",
        "import random\n",
        "import torchaudio.transforms as T\n",
        "from tqdm import tqdm\n",
        "from google.colab import drive"
      ]
    },
    {
      "cell_type": "markdown",
      "source": [
        "## 2. Dataset Download and Extraction\n",
        "Use the Kaggle API to download and extract the RAVDESS emotional speech dataset."
      ],
      "metadata": {
        "id": "aQe8odZm8yJq"
      }
    },
    {
      "cell_type": "code",
      "source": [
        "# Upload kaggle.json API token\n",
        "from google.colab import files\n",
        "files.upload()  # Select your kaggle.json file here\n",
        "\n",
        "# Move kaggle.json to the correct location and set permissions\n",
        "!mkdir -p ~/.kaggle\n",
        "!cp kaggle.json ~/.kaggle/\n",
        "!chmod 600 ~/.kaggle/kaggle.json\n",
        "\n",
        "# Download the RAVDESS dataset from Kaggle\n",
        "!kaggle datasets download -d uwrfkaggler/ravdess-emotional-speech-audio\n",
        "\n",
        "# Force unzip even if files already exist (overwrite silently)\n",
        "!unzip -o -q ravdess-emotional-speech-audio.zip -d ravdess_data\n",
        "\n",
        "# List the contents to confirm\n",
        "!ls ravdess_data"
      ],
      "metadata": {
        "colab": {
          "base_uri": "https://localhost:8080/",
          "height": 246
        },
        "id": "LWgoPhpP9vJa",
        "outputId": "c3914597-1366-4dbb-91df-f91b3c280b47"
      },
      "execution_count": 2,
      "outputs": [
        {
          "output_type": "display_data",
          "data": {
            "text/plain": [
              "<IPython.core.display.HTML object>"
            ],
            "text/html": [
              "\n",
              "     <input type=\"file\" id=\"files-8e5aea36-d08a-47d4-a3dc-55fd999747f9\" name=\"files[]\" multiple disabled\n",
              "        style=\"border:none\" />\n",
              "     <output id=\"result-8e5aea36-d08a-47d4-a3dc-55fd999747f9\">\n",
              "      Upload widget is only available when the cell has been executed in the\n",
              "      current browser session. Please rerun this cell to enable.\n",
              "      </output>\n",
              "      <script>// Copyright 2017 Google LLC\n",
              "//\n",
              "// Licensed under the Apache License, Version 2.0 (the \"License\");\n",
              "// you may not use this file except in compliance with the License.\n",
              "// You may obtain a copy of the License at\n",
              "//\n",
              "//      http://www.apache.org/licenses/LICENSE-2.0\n",
              "//\n",
              "// Unless required by applicable law or agreed to in writing, software\n",
              "// distributed under the License is distributed on an \"AS IS\" BASIS,\n",
              "// WITHOUT WARRANTIES OR CONDITIONS OF ANY KIND, either express or implied.\n",
              "// See the License for the specific language governing permissions and\n",
              "// limitations under the License.\n",
              "\n",
              "/**\n",
              " * @fileoverview Helpers for google.colab Python module.\n",
              " */\n",
              "(function(scope) {\n",
              "function span(text, styleAttributes = {}) {\n",
              "  const element = document.createElement('span');\n",
              "  element.textContent = text;\n",
              "  for (const key of Object.keys(styleAttributes)) {\n",
              "    element.style[key] = styleAttributes[key];\n",
              "  }\n",
              "  return element;\n",
              "}\n",
              "\n",
              "// Max number of bytes which will be uploaded at a time.\n",
              "const MAX_PAYLOAD_SIZE = 100 * 1024;\n",
              "\n",
              "function _uploadFiles(inputId, outputId) {\n",
              "  const steps = uploadFilesStep(inputId, outputId);\n",
              "  const outputElement = document.getElementById(outputId);\n",
              "  // Cache steps on the outputElement to make it available for the next call\n",
              "  // to uploadFilesContinue from Python.\n",
              "  outputElement.steps = steps;\n",
              "\n",
              "  return _uploadFilesContinue(outputId);\n",
              "}\n",
              "\n",
              "// This is roughly an async generator (not supported in the browser yet),\n",
              "// where there are multiple asynchronous steps and the Python side is going\n",
              "// to poll for completion of each step.\n",
              "// This uses a Promise to block the python side on completion of each step,\n",
              "// then passes the result of the previous step as the input to the next step.\n",
              "function _uploadFilesContinue(outputId) {\n",
              "  const outputElement = document.getElementById(outputId);\n",
              "  const steps = outputElement.steps;\n",
              "\n",
              "  const next = steps.next(outputElement.lastPromiseValue);\n",
              "  return Promise.resolve(next.value.promise).then((value) => {\n",
              "    // Cache the last promise value to make it available to the next\n",
              "    // step of the generator.\n",
              "    outputElement.lastPromiseValue = value;\n",
              "    return next.value.response;\n",
              "  });\n",
              "}\n",
              "\n",
              "/**\n",
              " * Generator function which is called between each async step of the upload\n",
              " * process.\n",
              " * @param {string} inputId Element ID of the input file picker element.\n",
              " * @param {string} outputId Element ID of the output display.\n",
              " * @return {!Iterable<!Object>} Iterable of next steps.\n",
              " */\n",
              "function* uploadFilesStep(inputId, outputId) {\n",
              "  const inputElement = document.getElementById(inputId);\n",
              "  inputElement.disabled = false;\n",
              "\n",
              "  const outputElement = document.getElementById(outputId);\n",
              "  outputElement.innerHTML = '';\n",
              "\n",
              "  const pickedPromise = new Promise((resolve) => {\n",
              "    inputElement.addEventListener('change', (e) => {\n",
              "      resolve(e.target.files);\n",
              "    });\n",
              "  });\n",
              "\n",
              "  const cancel = document.createElement('button');\n",
              "  inputElement.parentElement.appendChild(cancel);\n",
              "  cancel.textContent = 'Cancel upload';\n",
              "  const cancelPromise = new Promise((resolve) => {\n",
              "    cancel.onclick = () => {\n",
              "      resolve(null);\n",
              "    };\n",
              "  });\n",
              "\n",
              "  // Wait for the user to pick the files.\n",
              "  const files = yield {\n",
              "    promise: Promise.race([pickedPromise, cancelPromise]),\n",
              "    response: {\n",
              "      action: 'starting',\n",
              "    }\n",
              "  };\n",
              "\n",
              "  cancel.remove();\n",
              "\n",
              "  // Disable the input element since further picks are not allowed.\n",
              "  inputElement.disabled = true;\n",
              "\n",
              "  if (!files) {\n",
              "    return {\n",
              "      response: {\n",
              "        action: 'complete',\n",
              "      }\n",
              "    };\n",
              "  }\n",
              "\n",
              "  for (const file of files) {\n",
              "    const li = document.createElement('li');\n",
              "    li.append(span(file.name, {fontWeight: 'bold'}));\n",
              "    li.append(span(\n",
              "        `(${file.type || 'n/a'}) - ${file.size} bytes, ` +\n",
              "        `last modified: ${\n",
              "            file.lastModifiedDate ? file.lastModifiedDate.toLocaleDateString() :\n",
              "                                    'n/a'} - `));\n",
              "    const percent = span('0% done');\n",
              "    li.appendChild(percent);\n",
              "\n",
              "    outputElement.appendChild(li);\n",
              "\n",
              "    const fileDataPromise = new Promise((resolve) => {\n",
              "      const reader = new FileReader();\n",
              "      reader.onload = (e) => {\n",
              "        resolve(e.target.result);\n",
              "      };\n",
              "      reader.readAsArrayBuffer(file);\n",
              "    });\n",
              "    // Wait for the data to be ready.\n",
              "    let fileData = yield {\n",
              "      promise: fileDataPromise,\n",
              "      response: {\n",
              "        action: 'continue',\n",
              "      }\n",
              "    };\n",
              "\n",
              "    // Use a chunked sending to avoid message size limits. See b/62115660.\n",
              "    let position = 0;\n",
              "    do {\n",
              "      const length = Math.min(fileData.byteLength - position, MAX_PAYLOAD_SIZE);\n",
              "      const chunk = new Uint8Array(fileData, position, length);\n",
              "      position += length;\n",
              "\n",
              "      const base64 = btoa(String.fromCharCode.apply(null, chunk));\n",
              "      yield {\n",
              "        response: {\n",
              "          action: 'append',\n",
              "          file: file.name,\n",
              "          data: base64,\n",
              "        },\n",
              "      };\n",
              "\n",
              "      let percentDone = fileData.byteLength === 0 ?\n",
              "          100 :\n",
              "          Math.round((position / fileData.byteLength) * 100);\n",
              "      percent.textContent = `${percentDone}% done`;\n",
              "\n",
              "    } while (position < fileData.byteLength);\n",
              "  }\n",
              "\n",
              "  // All done.\n",
              "  yield {\n",
              "    response: {\n",
              "      action: 'complete',\n",
              "    }\n",
              "  };\n",
              "}\n",
              "\n",
              "scope.google = scope.google || {};\n",
              "scope.google.colab = scope.google.colab || {};\n",
              "scope.google.colab._files = {\n",
              "  _uploadFiles,\n",
              "  _uploadFilesContinue,\n",
              "};\n",
              "})(self);\n",
              "</script> "
            ]
          },
          "metadata": {}
        },
        {
          "output_type": "stream",
          "name": "stdout",
          "text": [
            "Saving kaggle.json to kaggle.json\n",
            "Dataset URL: https://www.kaggle.com/datasets/uwrfkaggler/ravdess-emotional-speech-audio\n",
            "License(s): CC-BY-NC-SA-4.0\n",
            "Downloading ravdess-emotional-speech-audio.zip to /content\n",
            " 95% 407M/429M [00:07<00:00, 65.9MB/s]\n",
            "100% 429M/429M [00:07<00:00, 62.3MB/s]\n",
            "Actor_01  Actor_06  Actor_11  Actor_16\tActor_21\n",
            "Actor_02  Actor_07  Actor_12  Actor_17\tActor_22\n",
            "Actor_03  Actor_08  Actor_13  Actor_18\tActor_23\n",
            "Actor_04  Actor_09  Actor_14  Actor_19\tActor_24\n",
            "Actor_05  Actor_10  Actor_15  Actor_20\taudio_speech_actors_01-24\n"
          ]
        }
      ]
    },
    {
      "cell_type": "markdown",
      "source": [
        "## 3. Custom Dataset Class: RAVDESSDataset\n",
        "\n",
        "Define a custom PyTorch Dataset class that handles:\n",
        "* Audio loading from WAV files\n",
        "* Stereo to mono conversion\n",
        "* Resampling to a uniform sample rate (16kHz)\n",
        "* Padding or trimming all waveforms to a fixed 3-second duration\n",
        "* Normalization to unit amplitude\n",
        "\n",
        "This class also includes a mapping from RAVDESS file names to emotion labels (0–7), based on the emotion code embedded in each filename.\n",
        "\n"
      ],
      "metadata": {
        "id": "_6nN_fM4t_JO"
      }
    },
    {
      "cell_type": "code",
      "source": [
        "class RAVDESSDataset(Dataset):\n",
        "    def __init__(self, root_dir, sample_rate=16000, duration=3, augment=False):\n",
        "        self.root_dir = root_dir\n",
        "        self.sample_rate = sample_rate\n",
        "        self.fixed_length = sample_rate * duration\n",
        "        self.augment = augment\n",
        "        self.augmenter = AudioAugment() if augment else None\n",
        "\n",
        "        self.file_paths = glob.glob(os.path.join(root_dir, '**', '*.wav'), recursive=True)\n",
        "\n",
        "        self.label_map = {\n",
        "            '01': 0,  # neutral\n",
        "            '02': 1,  # calm\n",
        "            '03': 2,  # happy\n",
        "            '04': 3,  # sad\n",
        "            '05': 4,  # angry\n",
        "            '06': 5,  # fearful\n",
        "            '07': 6,  # disgust\n",
        "            '08': 7   # surprised\n",
        "        }\n",
        "\n",
        "    def __len__(self):\n",
        "        return len(self.file_paths)\n",
        "\n",
        "    def __getitem__(self, idx):\n",
        "        file_path = self.file_paths[idx]\n",
        "\n",
        "        # Load and preprocess waveform\n",
        "        waveform, sr = torchaudio.load(file_path)\n",
        "\n",
        "        # Convert stereo to mono\n",
        "        if waveform.shape[0] > 1:\n",
        "            waveform = torch.mean(waveform, dim=0, keepdim=True)\n",
        "\n",
        "        # Resample if needed\n",
        "        if sr != self.sample_rate:\n",
        "            resampler = torchaudio.transforms.Resample(orig_freq=sr, new_freq=self.sample_rate)\n",
        "            waveform = resampler(waveform)\n",
        "\n",
        "        # Fix length\n",
        "        if waveform.shape[1] > self.fixed_length:\n",
        "            waveform = waveform[:, :self.fixed_length]\n",
        "        elif waveform.shape[1] < self.fixed_length:\n",
        "            padding = self.fixed_length - waveform.shape[1]\n",
        "            waveform = torch.nn.functional.pad(waveform, (0, padding))\n",
        "\n",
        "        # Augment if enabled\n",
        "        if self.augmenter:\n",
        "            waveform = self.augmenter(waveform)\n",
        "\n",
        "        # Label from filename\n",
        "        filename = os.path.basename(file_path)\n",
        "        emotion_code = filename.split(\"-\")[2]\n",
        "        label = self.label_map[emotion_code]\n",
        "\n",
        "        return waveform, label"
      ],
      "metadata": {
        "id": "uYlMsPVF_eLT"
      },
      "execution_count": 3,
      "outputs": []
    },
    {
      "cell_type": "markdown",
      "source": [
        "## 4. Dataset Inspection and Waveform Visualization\n",
        "Instantiate the dataset, select a sample, and visualize its waveform and corresponding label using Matplotlib."
      ],
      "metadata": {
        "id": "YYKJbwIyu_9T"
      }
    },
    {
      "cell_type": "code",
      "source": [
        "# Set dataset root path\n",
        "dataset_path = \"ravdess_data/\"  # this is where the files were unzipped\n",
        "\n",
        "# Create dataset instance\n",
        "full_dataset = RAVDESSDataset(root_dir=dataset_path)"
      ],
      "metadata": {
        "id": "3HPZhdXyAXSH"
      },
      "execution_count": 4,
      "outputs": []
    },
    {
      "cell_type": "code",
      "source": [
        "# Visualize one sample from the dataset\n",
        "waveform, label = full_dataset[0]\n",
        "\n",
        "print(f\"Label index: {label}\")\n",
        "print(f\"Waveform shape: {waveform.shape}\")  # should be (48000,)\n",
        "\n",
        "# Plot the waveform\n",
        "plt.figure(figsize=(12, 3))\n",
        "plt.plot(waveform.squeeze(0).numpy())\n",
        "plt.title(f\"Waveform Example - Label: {label}\")\n",
        "plt.xlabel(\"Sample Index\")\n",
        "plt.ylabel(\"Amplitude\")\n",
        "plt.show()"
      ],
      "metadata": {
        "colab": {
          "base_uri": "https://localhost:8080/",
          "height": 306
        },
        "id": "WKVL78QtAygs",
        "outputId": "5fba740a-cd2a-4048-d915-4236c8db0501"
      },
      "execution_count": 5,
      "outputs": [
        {
          "output_type": "stream",
          "name": "stdout",
          "text": [
            "Label index: 3\n",
            "Waveform shape: torch.Size([1, 48000])\n"
          ]
        },
        {
          "output_type": "display_data",
          "data": {
            "text/plain": [
              "<Figure size 1200x300 with 1 Axes>"
            ],
            "image/png": "[encoded data removed]"
          },
          "metadata": {}
        }
      ]
    },
    {
      "cell_type": "markdown",
      "source": [
        "## 5. Dataset Splitting\n",
        "Split the dataset into training, validation, and test sets using PyTorch’s random_split function. Only the training set is augmented in later steps."
      ],
      "metadata": {
        "id": "eWnQ7YMAtZZU"
      }
    },
    {
      "cell_type": "code",
      "source": [
        "# Total dataset size\n",
        "total_size = len(full_dataset)\n",
        "\n",
        "# Split ratios\n",
        "train_ratio = 0.8\n",
        "val_ratio = 0.1\n",
        "test_ratio = 0.1\n",
        "\n",
        "# Compute lengths\n",
        "train_size = int(train_ratio * total_size)\n",
        "val_size = int(val_ratio * total_size)\n",
        "test_size = total_size - train_size - val_size  # to handle rounding\n",
        "\n",
        "# Split the dataset\n",
        "train_dataset, val_dataset, test_dataset = random_split(\n",
        "    full_dataset,\n",
        "    [train_size, val_size, test_size],\n",
        "    generator=torch.Generator().manual_seed(42)  # reproducible split\n",
        ")\n",
        "\n",
        "print(f\"Total samples: {total_size}\")\n",
        "print(f\"Training set size: {len(train_dataset)}\")\n",
        "print(f\"Validation set size: {len(val_dataset)}\")\n",
        "print(f\"Test set size: {len(test_dataset)}\")"
      ],
      "metadata": {
        "colab": {
          "base_uri": "https://localhost:8080/"
        },
        "id": "U3sE_Ia1A5hm",
        "outputId": "a924d927-b78e-429b-fd69-3e55ab0a20da"
      },
      "execution_count": 6,
      "outputs": [
        {
          "output_type": "stream",
          "name": "stdout",
          "text": [
            "Total samples: 2880\n",
            "Training set size: 2304\n",
            "Validation set size: 288\n",
            "Test set size: 288\n"
          ]
        }
      ]
    },
    {
      "cell_type": "markdown",
      "source": [
        "## 6. Train Set Augmentation\n",
        "Define an EmotionAwareAugment class that applies data augmentation to the training set only. Each sample is augmented three times using transformations that depend on the emotion label, such as:\n",
        "\n",
        "* Pitch shifting\n",
        "* Volume adjustment\n",
        "* Time stretching\n",
        "* Time shifting\n",
        "* Noise injection\n",
        "\n",
        "These augmentations help improve model robustness by introducing controlled variability in the training data.\n",
        "\n"
      ],
      "metadata": {
        "id": "hgMEJfFHub1X"
      }
    },
    {
      "cell_type": "code",
      "source": [
        "# Extract file paths of training set from random_split\n",
        "train_indices = train_dataset.indices  # Get indices from the training Subset\n",
        "train_files = [full_dataset.file_paths[i] for i in train_indices]  # Map indices to file paths\n",
        "\n",
        "# Print summary\n",
        "print(f\"Number of training files: {len(train_files)}\")\n",
        "print(f\"First training file path: {train_files[0]}\")"
      ],
      "metadata": {
        "colab": {
          "base_uri": "https://localhost:8080/"
        },
        "id": "HAs5gIwH0Uqh",
        "outputId": "358ca897-0fae-4239-fe10-8d2f1506b964"
      },
      "execution_count": 7,
      "outputs": [
        {
          "output_type": "stream",
          "name": "stdout",
          "text": [
            "Number of training files: 2304\n",
            "First training file path: ravdess_data/audio_speech_actors_01-24/Actor_03/03-01-07-02-01-01-03.wav\n"
          ]
        }
      ]
    },
    {
      "cell_type": "code",
      "source": [
        "class EmotionAwareAugment:\n",
        "    def __init__(self, sample_rate=16000, apply_prob=0.8):\n",
        "        self.sample_rate = sample_rate\n",
        "        self.apply_prob = apply_prob\n",
        "\n",
        "    def __call__(self, waveform, label):\n",
        "        # Label: integer 0-7 representing the emotion class\n",
        "        if random.random() > self.apply_prob:\n",
        "            return waveform  # no augmentation this time\n",
        "\n",
        "        if label == 2:  # happy\n",
        "            waveform = self.pitch_shift(waveform, steps=1)\n",
        "            waveform = self.volume_change(waveform, factor=1.1)\n",
        "        elif label == 3:  # sad\n",
        "            waveform = self.pitch_shift(waveform, steps=-1)\n",
        "            waveform = self.time_stretch(waveform, factor=0.95)\n",
        "        elif label == 4:  # angry\n",
        "            waveform = self.volume_change(waveform, factor=1.2)\n",
        "            waveform = self.add_noise(waveform, noise_std=0.01)\n",
        "        elif label == 1 or label == 0:  # calm / neutral\n",
        "            waveform = self.time_shift(waveform, max_shift=1000)\n",
        "        elif label == 5:  # fearful\n",
        "            waveform = self.pitch_shift(waveform, steps=1)\n",
        "            waveform = self.add_noise(waveform)\n",
        "        elif label == 6:  # disgust\n",
        "            waveform = self.volume_change(waveform, factor=1.1)\n",
        "        elif label == 7:  # surprised\n",
        "            waveform = self.pitch_shift(waveform, steps=2)\n",
        "            waveform = self.volume_change(waveform, factor=1.2)\n",
        "\n",
        "        return waveform\n",
        "\n",
        "    def pitch_shift(self, waveform, steps=1):\n",
        "        transform = T.PitchShift(\n",
        "            sample_rate=self.sample_rate,\n",
        "            n_steps=steps\n",
        "        ).to(waveform.device)  # this fixes the window device mismatch\n",
        "        return transform(waveform)\n",
        "\n",
        "    def time_stretch(self, waveform, factor=0.95):\n",
        "        new_sr = int(self.sample_rate * factor)\n",
        "        resample = T.Resample(orig_freq=self.sample_rate, new_freq=new_sr).to(waveform.device)\n",
        "        return resample(waveform)\n",
        "\n",
        "    def volume_change(self, waveform, factor=1.1):\n",
        "        return waveform * factor\n",
        "\n",
        "    def add_noise(self, waveform, noise_std=0.005):\n",
        "        noise = torch.randn_like(waveform) * noise_std\n",
        "        return waveform + noise\n",
        "\n",
        "    def time_shift(self, waveform, max_shift=1600):\n",
        "        shift = random.randint(-max_shift, max_shift)\n",
        "        return torch.roll(waveform, shifts=shift, dims=-1)"
      ],
      "metadata": {
        "id": "L9mHsC99ufRv"
      },
      "execution_count": 14,
      "outputs": []
    },
    {
      "cell_type": "code",
      "source": [
        "output_dir = \"/content/expanded_dataset\"  # new dataset folder\n",
        "os.makedirs(output_dir, exist_ok=True)    # create folder if it doesn't exist"
      ],
      "metadata": {
        "id": "HQLcDMMwCwLG"
      },
      "execution_count": 9,
      "outputs": []
    },
    {
      "cell_type": "code",
      "source": [
        "# Parameters\n",
        "sample_rate = 16000\n",
        "fixed_length = sample_rate * 3\n",
        "num_augmentations_per_sample = 3\n",
        "output_dir = \"/content/expanded_dataset\"\n",
        "os.makedirs(output_dir, exist_ok=True)\n",
        "\n",
        "# Device\n",
        "device = torch.device(\"cuda\" if torch.cuda.is_available() else \"cpu\")\n",
        "\n",
        "# Initialize the emotion-aware augmenter\n",
        "augmenter = EmotionAwareAugment(sample_rate=sample_rate)\n",
        "\n",
        "# Label mapping\n",
        "label_map = {\n",
        "    '01': 0, '02': 1, '03': 2, '04': 3,\n",
        "    '05': 4, '06': 5, '07': 6, '08': 7\n",
        "}\n",
        "\n",
        "# Counter for saved files\n",
        "counter = 0\n",
        "\n",
        "for path in tqdm(train_files, desc=\"Expanding dataset with GPU\"):\n",
        "    waveform, sr = torchaudio.load(path)\n",
        "\n",
        "    # Convert to mono\n",
        "    if waveform.shape[0] > 1:\n",
        "        waveform = torch.mean(waveform, dim=0, keepdim=True)\n",
        "\n",
        "    # Move to GPU\n",
        "    waveform = waveform.to(device).float()\n",
        "\n",
        "    # Resample\n",
        "    if sr != sample_rate:\n",
        "        resampler = torchaudio.transforms.Resample(\n",
        "            orig_freq=sr, new_freq=sample_rate).to(device)\n",
        "        waveform = resampler(waveform)\n",
        "\n",
        "    # Trim or pad\n",
        "    if waveform.shape[1] > fixed_length:\n",
        "        waveform = waveform[:, :fixed_length]\n",
        "    elif waveform.shape[1] < fixed_length:\n",
        "        padding = fixed_length - waveform.shape[1]\n",
        "        waveform = F.pad(waveform, (0, padding))\n",
        "\n",
        "    # Normalize\n",
        "    waveform = waveform / waveform.abs().max()\n",
        "\n",
        "    # Get label from filename\n",
        "    filename = os.path.basename(path)\n",
        "    emotion_code = filename.split(\"-\")[2]\n",
        "    label = label_map[emotion_code]\n",
        "\n",
        "    # Save original (move to CPU before saving)\n",
        "    torch.save({\n",
        "        \"waveform\": waveform.cpu(),\n",
        "        \"label\": label\n",
        "    }, f\"{output_dir}/sample_{counter}.pt\")\n",
        "    counter += 1\n",
        "\n",
        "    # Save augmented versions\n",
        "    for _ in range(num_augmentations_per_sample):\n",
        "        aug_waveform = augmenter(waveform.clone(), label)  # stays on GPU\n",
        "        torch.save({\n",
        "            \"waveform\": aug_waveform.cpu(),\n",
        "            \"label\": label\n",
        "        }, f\"{output_dir}/sample_{counter}.pt\")\n",
        "        counter += 1\n",
        "\n",
        "print(f\"\\n Saved {counter} samples to {output_dir} using GPU acceleration.\")\n"
      ],
      "metadata": {
        "colab": {
          "base_uri": "https://localhost:8080/"
        },
        "id": "TD7y-16p1BJq",
        "outputId": "40870914-10cf-4530-807f-35f6b580662d"
      },
      "execution_count": 15,
      "outputs": [
        {
          "output_type": "stream",
          "name": "stderr",
          "text": [
            "Expanding dataset with GPU: 100%|██████████| 2304/2304 [08:26<00:00,  4.55it/s]"
          ]
        },
        {
          "output_type": "stream",
          "name": "stdout",
          "text": [
            "\n",
            " Saved 9216 samples to /content/expanded_dataset using GPU acceleration.\n"
          ]
        },
        {
          "output_type": "stream",
          "name": "stderr",
          "text": [
            "\n"
          ]
        }
      ]
    },
    {
      "cell_type": "markdown",
      "source": [
        "## 7. Saving Datasets\n",
        "Save the original and augmented training samples (as .pt files) into a local folder. The complete set is then zipped and copied to Google Drive for easy reuse in training notebooks."
      ],
      "metadata": {
        "id": "DQ8AcgEDYcl9"
      }
    },
    {
      "cell_type": "code",
      "source": [
        "# Mount Google Drive\n",
        "drive.mount('/content/drive')"
      ],
      "metadata": {
        "colab": {
          "base_uri": "https://localhost:8080/"
        },
        "id": "UmuhlDEcdOgR",
        "outputId": "018e4526-eebd-46be-df14-f8fcf64588cf"
      },
      "execution_count": 2,
      "outputs": [
        {
          "output_type": "stream",
          "name": "stdout",
          "text": [
            "Mounted at /content/drive\n"
          ]
        }
      ]
    },
    {
      "cell_type": "code",
      "source": [
        "# Zip augmented dataset\n",
        "zip_path = \"/content/expanded_dataset.zip\"\n",
        "if not os.path.exists(zip_path):\n",
        "    !zip -r {zip_path} /content/expanded_dataset\n",
        "\n",
        "# Define destination path Google Drive\n",
        "drive_destination = \"/content/drive/MyDrive/expanded_dataset.zip\"\n",
        "\n",
        "# Copy ZIP to Drive\n",
        "!cp {zip_path} \"{drive_destination}\"\n",
        "print(f\"Dataset successfully copied to Google Drive at: {drive_destination}\")"
      ],
      "metadata": {
        "colab": {
          "base_uri": "https://localhost:8080/"
        },
        "id": "E0268a-BxTEl",
        "outputId": "bc44cb72-b93d-48c1-a549-9de54529016e"
      },
      "execution_count": 20,
      "outputs": [
        {
          "output_type": "stream",
          "name": "stdout",
          "text": [
            "Mounted at /content/drive\n",
            "Dataset successfully copied to Google Drive at: /content/drive/MyDrive/expanded_dataset.zip\n"
          ]
        }
      ]
    },
    {
      "cell_type": "markdown",
      "source": [
        "Save validation and test sets into Google Drive"
      ],
      "metadata": {
        "id": "rD2Bt4d-dlLc"
      }
    },
    {
      "cell_type": "code",
      "source": [
        "def save_subset_as_pt(subset, full_dataset, output_dir, prefix):\n",
        "    os.makedirs(output_dir, exist_ok=True)\n",
        "\n",
        "    for idx, i in enumerate(subset.indices):\n",
        "        waveform, label = full_dataset[i]\n",
        "        torch.save(\n",
        "            {\"waveform\": waveform, \"label\": label},\n",
        "            f\"{output_dir}/{prefix}_sample_{idx}.pt\"\n",
        "        )\n",
        "    print(f\"Saved {len(subset)} samples to {output_dir}\")\n",
        "\n",
        "# Save validation set\n",
        "save_subset_as_pt(val_dataset, full_dataset, output_dir=\"val_data\", prefix=\"val\")\n",
        "\n",
        "# Save test set\n",
        "save_subset_as_pt(test_dataset, full_dataset, output_dir=\"test_data\", prefix=\"test\")"
      ],
      "metadata": {
        "colab": {
          "base_uri": "https://localhost:8080/"
        },
        "id": "miUVJy0OboFl",
        "outputId": "852ab6e7-b014-4865-f4af-bf212b3b1c97"
      },
      "execution_count": 7,
      "outputs": [
        {
          "output_type": "stream",
          "name": "stdout",
          "text": [
            "Saved 288 samples to val_data\n",
            "Saved 288 samples to test_data\n"
          ]
        }
      ]
    },
    {
      "cell_type": "code",
      "source": [
        "# Zip validation set\n",
        "!zip -r val_data.zip val_data > /dev/null\n",
        "\n",
        "# Zip test set\n",
        "!zip -r test_data.zip test_data > /dev/null\n",
        "\n",
        "print(\"val_data.zip and test_data.zip created successfully.\")"
      ],
      "metadata": {
        "colab": {
          "base_uri": "https://localhost:8080/"
        },
        "id": "7iuykpOxcQpv",
        "outputId": "559f716d-1e3f-4231-ef0b-ab731ff6234c"
      },
      "execution_count": 8,
      "outputs": [
        {
          "output_type": "stream",
          "name": "stdout",
          "text": [
            "val_data.zip and test_data.zip created successfully.\n"
          ]
        }
      ]
    },
    {
      "cell_type": "code",
      "source": [
        "# Copy zip files to your Drive root\n",
        "!cp val_data.zip /content/drive/MyDrive/\n",
        "!cp test_data.zip /content/drive/MyDrive/\n",
        "\n",
        "print(\" Files copied to your Google Drive (MyDrive).\")"
      ],
      "metadata": {
        "colab": {
          "base_uri": "https://localhost:8080/"
        },
        "id": "-IYDbzKOcejy",
        "outputId": "f40ccf55-835a-45e1-f957-9ff14143238f"
      },
      "execution_count": 9,
      "outputs": [
        {
          "output_type": "stream",
          "name": "stdout",
          "text": [
            "Mounted at /content/drive\n",
            " Files copied to your Google Drive (MyDrive).\n"
          ]
        }
      ]
    }
  ]
}